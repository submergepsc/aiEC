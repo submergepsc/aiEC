{
 "cells": [
  {
   "cell_type": "markdown",
   "id": "3c705472",
   "metadata": {},
   "source": [
    "**<font color = black size=6>实验三:逻辑回归</font>**"
   ]
  },
  {
   "cell_type": "markdown",
   "id": "e11986a8",
   "metadata": {},
   "source": [
    "**<font color = blue size=4>第一部分:数据预处理介绍</font>**"
   ]
  },
  {
   "cell_type": "markdown",
   "id": "7347ea0d",
   "metadata": {},
   "source": [
    "<span style=\"color:purple\">机器学习所使用的数据集并不一定能够直接进行使用，如可能出现缺失值或者异常值（如异常0或者异常大的数据），又或者是数据类型不适合直接应用于模型训练等。因此，数据预处理是机器学习过程中十分重要的一个部分。<br>本次实验包括数据预处理，包括判断数据是否有缺失值以及异常值、缺失值替换操作、并将部分特征值类型转换为适合模型训练的类型。在进行逻辑回归实验之前，首先介绍下上述操作所用到的python语法。</span>"
   ]
  },
  {
   "cell_type": "markdown",
   "id": "c91cc3d4",
   "metadata": {},
   "source": [
    "<span style=\"color:purple\">1) 判断一列中是否有缺失值</span>"
   ]
  },
  {
   "cell_type": "code",
   "execution_count": 1,
   "id": "604155fe",
   "metadata": {},
   "outputs": [],
   "source": [
    "# 载入需要使用的库\n",
    "import pandas as pd\n",
    "import numpy as np\n",
    "import matplotlib.pyplot as plt\n",
    "# ignore warnings\n",
    "import warnings\n",
    "warnings.filterwarnings('ignore')"
   ]
  },
  {
   "cell_type": "code",
   "execution_count": 2,
   "id": "1d1af972",
   "metadata": {},
   "outputs": [
    {
     "name": "stdout",
     "output_type": "stream",
     "text": [
      "   height  weight     sex\n",
      "0   170.0    54.0    Male\n",
      "1   180.0     NaN    Male\n",
      "2   164.0    48.0  Female\n",
      "3     NaN    66.0    Male\n",
      "4   176.0     NaN  Female\n",
      "5   162.0    59.0    Male\n",
      "6   154.0    46.0    Male\n",
      "7   155.0    58.0  Female\n",
      "8   165.0     0.0  Female\n",
      "9     NaN    50.0  Female\n"
     ]
    }
   ],
   "source": [
    "#通过pandas将csv文件转换为dataframe格式后进行操作\n",
    "train1_frame = pd.read_csv('introduction.csv')\n",
    "#该数据描述了不同性别的人的身高和体重数据\n",
    "#包括身高、体重、性别三个属性\n",
    "print(train1_frame)\n",
    "#打印出数据，观察数据异常值情况"
   ]
  },
  {
   "cell_type": "code",
   "execution_count": 3,
   "id": "f9483349",
   "metadata": {},
   "outputs": [
    {
     "name": "stdout",
     "output_type": "stream",
     "text": [
      "==================判断数据是否有空值=====================\n",
      "   height  weight    sex\n",
      "0   False   False  False\n",
      "1   False    True  False\n",
      "2   False   False  False\n",
      "3    True   False  False\n",
      "4   False    True  False\n",
      "5   False   False  False\n",
      "6   False   False  False\n",
      "7   False   False  False\n",
      "8   False   False  False\n",
      "9    True   False  False\n",
      "==================统计每列空值的数量=====================\n",
      "height    2\n",
      "weight    2\n",
      "sex       0\n",
      "dtype: int64\n"
     ]
    }
   ],
   "source": [
    "# 可发现数据异常值包括0和空值(即NaN)\n",
    "# 第3、9行的身高为空值，第1、4行的体重为空值，第8行的体重为0\n",
    "\n",
    "# 使用pandas.dataframe的isnull()函数判断数据是否有空值NaN\n",
    "# 作用：检查表格里的每个格子是不是“空值”（缺失值，通常显示为 NaN）。\n",
    "# 用法：dataframe.isnull() \n",
    "# 返回结果：得到一个和原表格一样大小的新表格，里面每个格子都是 True 或 False。\n",
    "#   True 表示这个位置是空值（缺失了数据）\n",
    "#   False 表示这个位置有数据\n",
    "print(\"==================判断数据是否有空值=====================\")\n",
    "print(train1_frame.isnull())\n",
    "# 可以看到第3、9行的身高列为True，第1、4行的体重列为True，说明这些位置是空值\n",
    "\n",
    "\n",
    "# 使用pandas.dataframe的sum()函数对布尔值进行求和，判断每一列是否有空值并返回每列空值的数量\n",
    "# 作用：对表格里的每一列进行“求和”。\n",
    "# 用法：dataframe.sum()\n",
    "# 如果用在 isnull() 的结果上，就是统计每一列有多少个空值。\n",
    "print(\"==================统计每列空值的数量=====================\")\n",
    "print(train1_frame.isnull().sum())\n",
    "# 可以看到身高列有2个空值，体重列有2个空值，性别列没有空值"
   ]
  },
  {
   "cell_type": "markdown",
   "id": "73024790",
   "metadata": {},
   "source": [
    "<span style=\"color:purple\">2) 对每一列的缺失值和异常值进行替换操作</span>"
   ]
  },
  {
   "cell_type": "code",
   "execution_count": 4,
   "id": "86f26d8a",
   "metadata": {},
   "outputs": [
    {
     "name": "stdout",
     "output_type": "stream",
     "text": [
      "   height  weight     sex\n",
      "0   170.0    54.0    Male\n",
      "1   180.0     NaN    Male\n",
      "2   164.0    48.0  Female\n",
      "3     NaN    66.0    Male\n",
      "4   176.0     NaN  Female\n",
      "5   162.0    59.0    Male\n",
      "6   154.0    46.0    Male\n",
      "7   155.0    58.0  Female\n",
      "8   165.0     NaN  Female\n",
      "9     NaN    50.0  Female\n"
     ]
    }
   ],
   "source": [
    "# 先将0替换为空值，下一步再对统一对空值进行处理\n",
    "\n",
    "# 利用pandas中的replace函数将某一列的指定值替换为另一个值\n",
    "# replace 是 pandas 里用来“批量替换”表格数据的工具。你可以把表格里的某些值（比如 0、空字符串等）一次性换成你想要的新值（比如 NaN、平均值等）。\n",
    "# 基本用法如下：dataframe.replace(旧值, 新值)\n",
    "#   dataframe：你的表格对象\n",
    "#   旧值：你想要替换掉的内容\n",
    "#   新值：你想要换成的内容\n",
    "\n",
    "# replace函数可以同时替换多列\n",
    "# 下面的语句把 'height' 和 'weight' 两列中的所有 0 替换成空值（np.NaN）\n",
    "# 这样做是因为 0 在身高和体重数据里通常是不合理的异常值，后续可以统一处理这些空值\n",
    "train1_frame[['height', 'weight']]=train1_frame[['height', 'weight']].replace(0, np.nan)\n",
    "print(train1_frame)"
   ]
  },
  {
   "cell_type": "code",
   "execution_count": 1,
   "id": "2df35ff1",
   "metadata": {},
   "outputs": [
    {
     "name": "stdout",
     "output_type": "stream",
     "text": [
      "==================按性别分组=====================\n"
     ]
    },
    {
     "ename": "NameError",
     "evalue": "name 'train1_frame' is not defined",
     "output_type": "error",
     "traceback": [
      "\u001b[1;31m---------------------------------------------------------------------------\u001b[0m",
      "\u001b[1;31mNameError\u001b[0m                                 Traceback (most recent call last)",
      "Cell \u001b[1;32mIn[1], line 10\u001b[0m\n\u001b[0;32m      1\u001b[0m \u001b[38;5;66;03m# 替换数据中的空值为平均值\u001b[39;00m\n\u001b[0;32m      2\u001b[0m \u001b[38;5;66;03m# 我们希望将男性的身高、体重中的空值替换为男性的平均值\u001b[39;00m\n\u001b[0;32m      3\u001b[0m \u001b[38;5;66;03m# 将女性的身高、体重中的空值替换为女性的平均值\u001b[39;00m\n\u001b[1;32m   (...)\u001b[0m\n\u001b[0;32m      7\u001b[0m \u001b[38;5;66;03m# 用法：dataframe.groupby('分组列')['目标列']\u001b[39;00m\n\u001b[0;32m      8\u001b[0m \u001b[38;5;66;03m# 返回结果：返回一个分组对象，可以对每个分组进行操作\u001b[39;00m\n\u001b[0;32m      9\u001b[0m \u001b[38;5;28mprint\u001b[39m(\u001b[38;5;124m\"\u001b[39m\u001b[38;5;124m==================按性别分组=====================\u001b[39m\u001b[38;5;124m\"\u001b[39m)\n\u001b[1;32m---> 10\u001b[0m height_group_by_gender \u001b[38;5;241m=\u001b[39m train1_frame\u001b[38;5;241m.\u001b[39mgroupby(\u001b[38;5;124m'\u001b[39m\u001b[38;5;124msex\u001b[39m\u001b[38;5;124m'\u001b[39m)[\u001b[38;5;124m'\u001b[39m\u001b[38;5;124mheight\u001b[39m\u001b[38;5;124m'\u001b[39m]\n\u001b[0;32m     11\u001b[0m weight_group_by_gender \u001b[38;5;241m=\u001b[39m train1_frame\u001b[38;5;241m.\u001b[39mgroupby(\u001b[38;5;124m'\u001b[39m\u001b[38;5;124msex\u001b[39m\u001b[38;5;124m'\u001b[39m)[\u001b[38;5;124m'\u001b[39m\u001b[38;5;124mweight\u001b[39m\u001b[38;5;124m'\u001b[39m]\n\u001b[0;32m     12\u001b[0m \u001b[38;5;66;03m# print(type(height_group_by_gender))\u001b[39;00m\n\u001b[0;32m     13\u001b[0m \n\u001b[0;32m     14\u001b[0m \u001b[38;5;66;03m# 可以使用.mean()函数计算每组的平均值\u001b[39;00m\n\u001b[0;32m     15\u001b[0m \u001b[38;5;66;03m# 虽然下面并没有用到，但是作为示例，示范grouby对象的用法\u001b[39;00m\n",
      "\u001b[1;31mNameError\u001b[0m: name 'train1_frame' is not defined"
     ]
    }
   ],
   "source": [
    "# 替换数据中的空值为平均值\n",
    "# 我们希望将男性的身高、体重中的空值替换为男性的平均值\n",
    "# 将女性的身高、体重中的空值替换为女性的平均值\n",
    "\n",
    "# 首先，将数据按照性别分组\n",
    "# groupby()函数用于将数据按照某一列或多列进行分组，然后对每组目标分别进行统计、计算均值等操作\n",
    "# 用法：dataframe.groupby('分组列')['目标列']\n",
    "# 返回结果：返回一个分组对象，可以对每个分组进行操作\n",
    "print(\"==================按性别分组=====================\")\n",
    "height_group_by_gender = train1_frame.groupby('sex')['height']\n",
    "weight_group_by_gender = train1_frame.groupby('sex')['weight']\n",
    "# print(type(height_group_by_gender))\n",
    "\n",
    "# 可以使用.mean()函数计算每组的平均值\n",
    "# 虽然下面并没有用到，但是作为示例，示范grouby对象的用法\n",
    "# print(height_group_by_gender.mean())\n",
    "# print(weight_group_by_gender.mean())\n",
    "\n",
    "\n",
    "# 随后，按性别分类并计算每组的平均身高和平均体重，并生成一个与原数据行数相同的序列，\n",
    "# 并把所有“男”的行都填上“男”的平均身高/体重，所有“女”的行都填上“女”的平均身高/体重。\n",
    "# 这样可以方便地用来替换原数据中的空值\n",
    "# transform()函数可以对分组对象进行转换操作，返回一个与原数据行数相同的序列\n",
    "# 这里我们使用'transform('mean')'来计算每组的平均值，并将男性的身高体重均值填充到所有男性的行，女性的身高体重均值填充到所有女性的行\n",
    "# 这样做的好处是，后面可以直接用 fillna 把缺失的身高/体重用本组的均值补上，非常方便。\n",
    "mean_height_by_gender = height_group_by_gender.transform('mean')\n",
    "mean_weight_by_gender = weight_group_by_gender.transform('mean')\n",
    "# 可以打印出来看看\n",
    "print(\"==================按性别分组计算每组的平均值，并生成一个与原数据行数相同的序列=====================\")\n",
    "print(mean_height_by_gender)\n",
    "print(mean_weight_by_gender)\n",
    "\n",
    "# 使用每个性别组的平均值来替换缺失值\n",
    "# fillna()函数用于填充空值NaN\n",
    "# 用法：dataframe['列名'].fillna(填充值, inplace=True)\n",
    "# fillna()函数常见的用法是使用填充值填补该列的所有空值，例如，dataframe['列名'].fillna(1)就会将该列的所有空值替换为1\n",
    "# 参数inplace=True表示直接在原数据上进行修改，而不是返回一个新的数据\n",
    "# 然而，我们希望根据性别组的平均值来替换空值\n",
    "# 因此，我们可以将前面生成的与原数据行数相同的平均值序列传递给fillna()函数。\n",
    "# 如果传一个和原表一样长的序列，fillna 会按行匹配，每行缺失就用该行对应的值。\n",
    "# 这样 fillna 才能“对号入座”，每个缺失值都能用对应的均值补上。\n",
    "# 下面的语句将身高和体重列中的空值替换为对应性别组的平均值\n",
    "print(\"==================使用每个性别组的平均值来替换缺失值=====================\")\n",
    "train1_frame['height'].fillna(mean_height_by_gender, inplace=True)\n",
    "train1_frame['weight'].fillna(mean_weight_by_gender, inplace=True)\n",
    "# 打印结果\n",
    "print(train1_frame)"
   ]
  },
  {
   "cell_type": "markdown",
   "id": "a21de44c",
   "metadata": {},
   "source": [
    "<span style=\"color:purple\">3) 将标记值从字符串变成容易操作的整数类型</span>"
   ]
  },
  {
   "cell_type": "code",
   "execution_count": 6,
   "id": "3f04427d",
   "metadata": {},
   "outputs": [
    {
     "name": "stdout",
     "output_type": "stream",
     "text": [
      "   height  weight  sex\n",
      "0   170.0   54.00    0\n",
      "1   180.0   56.25    0\n",
      "2   164.0   48.00    1\n",
      "3   166.5   66.00    0\n",
      "4   176.0   52.00    1\n",
      "5   162.0   59.00    0\n",
      "6   154.0   46.00    0\n",
      "7   155.0   58.00    1\n",
      "8   165.0   52.00    1\n",
      "9   165.0   50.00    1\n"
     ]
    }
   ],
   "source": [
    "# 最后，将性别列中的字符串值转换为数值型\n",
    "# 机器学习模型只能处理数字，不能直接处理字符串。把性别变成0/1后，模型就能用它来做计算和分类了。\n",
    "# 这里我们将'Male'替换为0，将'Female'替换为1\n",
    "# np.where()函数用于根据条件选择值\n",
    "# 用法：np.where(条件, 满足条件时的值, 不满足条件时的值)\n",
    "# 该函数会检查每个元素是否满足条件，如果满足则返回满足条件时的值，否则返回不满足条件时的值\n",
    "# 这里我们检查性别列中的值是否为'Male'，如果是则返回0，否则返回1\n",
    "# 下面的语句将性别列中的'Male'替换为0，将'Female'替换为1    \n",
    "train1_frame['sex'] = np.where(train1_frame['sex'] == \"Male\", 0, 1)\n",
    "print(train1_frame)"
   ]
  },
  {
   "cell_type": "markdown",
   "id": "126b5810",
   "metadata": {},
   "source": [
    "<span style=\"color:purple\">4) 绘制散点图：在二维平面上可视化数据集的样本点</span>"
   ]
  },
  {
   "cell_type": "code",
   "execution_count": 7,
   "id": "31acfbb5",
   "metadata": {},
   "outputs": [
    {
     "data": {
      "image/png": "[encoded data removed]",
      "text/plain": [
       "<Figure size 640x480 with 1 Axes>"
      ]
     },
     "metadata": {},
     "output_type": "display_data"
    }
   ],
   "source": [
    "# 绘制散点图，观察数据分布情况\n",
    "# 我们先使用class_1和class_0分别存储性别为1（女性）和0（男性）的样本\n",
    "# 然后分别绘制两类样本的散点图\n",
    "class_1=train1_frame[train1_frame['sex']==1]\n",
    "class_0=train1_frame[train1_frame['sex']==0]\n",
    "\n",
    "# 可使用plt.scatter来绘制出数据集的每个样本点，并设置指定颜色来区分不同性别的样本\n",
    "# 用法：plt.scatter(x,y,c=\"color\")，x、y为坐标值，c为指定颜色\n",
    "# 这里以身高为x轴，体重为y轴，绘制每个样本散点图\n",
    "# 男性样本用红色表示，女性样本用蓝色表示\n",
    "plt.scatter(class_1['height'],class_1['weight'],c='blue')\n",
    "plt.scatter(class_0['height'],class_0['weight'],c='red')\n",
    "plt.show()"
   ]
  },
  {
   "cell_type": "code",
   "execution_count": null,
   "id": "668ab851",
   "metadata": {},
   "outputs": [],
   "source": []
  },
  {
   "cell_type": "markdown",
   "id": "23422092",
   "metadata": {},
   "source": [
    "<span style=\"color:purple\">5) 可视化分类决策边界：在二维平面上绘制一条直线，并给直线两侧着色\n",
    "\n",
    "作为示例，我们在二维平面上绘制一条简单的直线$x_1-2x_2+0=0$，并给$x_1-2x_2+0\\le 0$的部分着红色，给$x_1-2x_2+0\\ge 0$的部分着蓝色\n",
    "</span>"
   ]
  },
  {
   "cell_type": "code",
   "execution_count": 8,
   "id": "12060bac",
   "metadata": {},
   "outputs": [
    {
     "data": {
      "image/png": "[encoded data removed]",
      "text/plain": [
       "<Figure size 1000x500 with 1 Axes>"
      ]
     },
     "metadata": {},
     "output_type": "display_data"
    }
   ],
   "source": [
    "# 这里，我们给出了一段绘制二维直线及着色的代码\n",
    "# 该代码可以绘制出逻辑回归的决策边界，以及决策边界两侧的分类区域\n",
    "# 在后续的逻辑回归实验中，我们会用到这段代码来可视化决策边界\n",
    "# 在定义了关键参数w, x1_range, x2_range后，可以复制粘贴并直接使用\n",
    "# 如果对函数的实现细节感兴趣，可以参考下一个代码块的解释来理解函数的实现\n",
    "\n",
    "'''\n",
    "使用这段代码时，需要定义以下参数：\n",
    "w: 权重参数，形状为(3,1)或(3,)\n",
    "x1_range: x轴范围 (min, max)\n",
    "x2_range: y轴范围 (min, max)\n",
    "'''\n",
    "# 权重参数w=[b,w1,w2]，其中b为偏置项，w1、w2为x1、x2的权重\n",
    "# 在二维平面上绘制出的直线为w1*x1 + w2*x2 + b = 0，直线一侧的区域分类为0，另一侧的区域分类为1\n",
    "# 例如，w = [[0],[1],[-2]]表示直线x2 = 0.5*x1，直线左侧区域分类为0，右侧区域分类为1\n",
    "\n",
    "# 设置x轴和y轴的范围 \n",
    "# x1_range和x2_range分别表示x轴和y轴的取值范围，分别是两个二元组\n",
    "# 在实际使用的时候，可以定义为数据集样本x1和x2的范围\n",
    "\n",
    "# 下面定义关键参数：\n",
    "w = np.array([[0],[1],[-2]])\n",
    "x1_range=(0,35)\n",
    "x2_range=(0,20)\n",
    "\n",
    "# 下面是可以复制粘贴并直接使用的代码\n",
    "x1_min, x1_max = x1_range\n",
    "x2_min, x2_max = x2_range\n",
    "plt.figure(figsize=(10,5))\n",
    "step=0.1\n",
    "boundary_x1, boundary_x2 = np.meshgrid(np.arange(x1_min, x1_max, step), np.arange(x2_min, x2_max, step))\n",
    "grid = np.c_[boundary_x1.ravel(), boundary_x2.ravel()]\n",
    "e = np.ones((len(grid), 1))\n",
    "grid = np.c_[e, grid]\n",
    "z = grid.dot(w.reshape(-1,1))\n",
    "# 逻辑回归sigmoid并分类\n",
    "for i in range(len(z)):\n",
    "    z[i][0] = 1 / (1 + np.exp(-z[i][0]))\n",
    "    z[i][0] = 0 if z[i][0] < 0.5 else 1\n",
    "z = z.reshape(boundary_x1.shape)\n",
    "plt.contourf(boundary_x1, boundary_x2, z, alpha=0.7, cmap=plt.cm.Spectral, zorder=1)\n",
    "plt.xlabel('x1')\n",
    "plt.ylabel('x2')\n",
    "plt.show()\n"
   ]
  },
  {
   "cell_type": "code",
   "execution_count": 9,
   "id": "4a4b0476",
   "metadata": {},
   "outputs": [
    {
     "data": {
      "image/png": "[encoded data removed]",
      "text/plain": [
       "<Figure size 1000x500 with 1 Axes>"
      ]
     },
     "metadata": {},
     "output_type": "display_data"
    }
   ],
   "source": [
    "'''\n",
    "下面的代码是上面函数的展开解释\n",
    "如果有兴趣，可以对比上面的函数和下面的代码，理解每一步的作用\n",
    "'''\n",
    "#确定图画边界和大小，图画的大小不需要和横纵坐标的范围相同\n",
    "plt.figure(figsize=(10,5))\n",
    "#横坐标：0-35，纵坐标：0-20\n",
    "x1_min, x1_max = 0,35\n",
    "x2_min, x2_max = 0,20\n",
    "\n",
    "# 使用numpy中的meshgrid生成网格矩阵，方便进行之后的描点\n",
    "# 1. np.arange(x1_min, x1_max, 0.01)：生成x1方向的坐标数组（间隔0.01），生成x2方向的坐标数组同理\n",
    "#    → 例如x1_min=0, x1_max=1时，会生成[0.0, 0.01, 0.02,...,0.99]\n",
    "# 2. np.meshgrid()：将两个一维坐标数组组合成二维网格矩阵\n",
    "#    → 生成两个相同大小的矩阵：\n",
    "#      - boundary_x1：每一行存储相同的 x1 坐标值，对应 x1 轴的网格坐标，例如[[x1_0,x1_1],[x1_0,x1_1]]\n",
    "#      - boundary_x2：每一列存储相同的 x2 坐标值，对应 x2 轴的网格坐标，例如[[x2_0,x2_0],[x2_1,x2_1]]\n",
    "\n",
    "# 第二行代码将二维网格转换为一维坐标点列表，整理成适合计算的格式\n",
    "# 1. .ravel()：将二维矩阵展开成一维数组\n",
    "#    → boundary_x1从\"棋盘格\"形状变成\"一行行连接\"的形状\n",
    "# 2. np.c_[]：水平拼接两个一维数组\n",
    "#    → 最终得到N×2的数组，每行包含一个完整的坐标点 [x1, x2]\n",
    "# 示意图：\n",
    "# 原始网格（2x2）：\n",
    "# [[x1_0,x1_1],[x1_0,x1_1]]   → 展开后 → [x1_0,x1_1,x1_0,x1_1]\n",
    "# [[x2_0,x2_0],[x2_1,x2_1]]   → 展开后 → [x2_0,x2_0,x2_1,x2_1]\n",
    "# 拼接后：\n",
    "# [[x1_0,x2_0], [x1_1,x2_0], [x1_0,x2_1], [x1_1,x2_1]]\n",
    "boundary_x1, boundary_x2 = np.meshgrid(np.arange(x1_min, x1_max, 0.1),np.arange(x2_min, x2_max, 0.1))\n",
    "grid = np.c_[boundary_x1.ravel(), boundary_x2.ravel()]\n",
    "\n",
    "# 加入偏置(或w_0)对应的特征为1的一列\n",
    "# 1. 创建一个形状为 (grid.shape[0], 1) 的全 1 矩阵 e，表示偏置项\n",
    "#    → 例如 grid=[[x1_0,x2_0], [x1_1,x2_0], [x1_0,x2_1], [x1_1,x2_1]], 形状为 (4,2)（即包含 4 个点，每个点有 2 个特征 x 和 y），\n",
    "#      那么 e 形状为 (4,1)：[[1], [1], [1], [1]]\n",
    "# 2. 使用 np.c_[] 将 e 与 grid 按列拼接，形成一个新的特征矩阵\n",
    "#    → 原 grid 形状 (4,2)：[[x1_0,x2_0], [x1_1,x2_0], [x1_0,x2_1], [x1_1,x2_1]]\n",
    "#    → 拼接后 grid 形状 (4,3)：[[1,x1_0,x2_0], [1,x1_1,x2_0], [1,x1_0,x2_1], [1,x1_1,x2_1]]\n",
    "e=np.ones((len(grid),1))\n",
    "grid=np.c_[e,grid]\n",
    "\n",
    "# 假定下列的模型参数 [[w0],[w1],[w2]]=[[0],[1],[-2]]\n",
    "# grid 是 (N, 3) 形状的矩阵，每行是一个坐标点 (1, x1, x2)\n",
    "# w 是逻辑回归的权重参数 (3, 1)\n",
    "# 通过矩阵乘法 grid.dot(w) 计算每个网格点的线性变换结果，即 z = w_0 + w_1 * x1 + w_2 * x2\n",
    "w=np.array([[0],[1],[-2]])\n",
    "z=grid.dot(w)\n",
    "\n",
    "# 计算网格点中每个点的逻辑回归预测值\n",
    "# 对每个 z 值应用 sigmoid 函数，并转换为 0 或 1（二分类）\n",
    "for i in range(len(z)):\n",
    "    # 1. 计算 sigmoid 函数：σ(z) = 1 / (1 + exp(-z))\n",
    "    z[i][0]=(1/(1+np.exp(-z[i][0])))\n",
    "\n",
    "    # 2. 设定分类阈值：\n",
    "    #    - 如果 sigmoid 结果 < 0.5，则分类为 0\n",
    "    #    - 如果 sigmoid 结果 ≥ 0.5，则分类为 1\n",
    "    if(z[i][0]<0.5):z[i][0]=0\n",
    "    else:z[i][0]=1\n",
    "\n",
    "# 绘制决策边界\n",
    "# 1. 由于 contourf() 需要与 boundary_x, boundary_y 形状匹配，\n",
    "#    这里将 z 重新调整形状，使其与网格的形状相同\n",
    "# 2. plt.contourf() 用于绘制等高线填充图，根据 z 的分类值填充不同颜色\n",
    "#    cmap=plt.cm.Spectral 设置颜色映射，使得不同类别的区域颜色不同\n",
    "#    zorder=1 确保边界的图层不会被其他图形遮挡\n",
    "z=z.reshape(boundary_x1.shape)\n",
    "plt.contourf(boundary_x1, boundary_x2, z, alpha=0.7, cmap=plt.cm.Spectral, zorder=1)\n",
    "plt.xlabel('x1')\n",
    "plt.ylabel('x2')\n",
    "plt.show()"
   ]
  },
  {
   "cell_type": "markdown",
   "id": "22dfc18d",
   "metadata": {},
   "source": [
    "<span style=\"color:purple\">6) 将样本点散点图和决策边界绘制在一起，可视化分类的效果\n",
    "</span>"
   ]
  },
  {
   "cell_type": "code",
   "execution_count": 10,
   "id": "c87a3db2",
   "metadata": {},
   "outputs": [
    {
     "data": {
      "image/png": "[encoded data removed]",
      "text/plain": [
       "<Figure size 1000x500 with 1 Axes>"
      ]
     },
     "metadata": {},
     "output_type": "display_data"
    }
   ],
   "source": [
    "# 这里我们使用上面的代码，结合我们自己的数据，来绘制出逻辑回归的决策边界\n",
    "# 这里我们假设逻辑回归的权重参数w=[500,-2,-3]\n",
    "# 该参数表示的直线方程为-2*x1 - 3*x2 + 500 = 0\n",
    "# 直线一侧的区域分类为0，另一侧的区域分类为1\n",
    "# 我们将使用该参数来绘制决策边界\n",
    "# 这里我们将x1、x2的范围设置为数据集样本的范围\n",
    "x1_min, x1_max = train1_frame.iloc[:, 0].min() - 1, train1_frame.iloc[:, 0].max() + 1\n",
    "x2_min, x2_max = train1_frame.iloc[:, 1].min() - 1, train1_frame.iloc[:, 1].max() + 1\n",
    "w=np.array([[500],[-2],[-3]])\n",
    "\n",
    "# 下面我们复制粘贴上面的代码，只有一处需要改动\n",
    "plt.figure(figsize=(10,5))\n",
    "# 绘制数据集的散点图，将样本散点图和决策边界绘制在一张图上\n",
    "plt.scatter(class_1['height'],class_1['weight'],c='blue')\n",
    "plt.scatter(class_0['height'],class_0['weight'],c='red')\n",
    "\n",
    "# 下面完全使用上面的代码\n",
    "step=0.1\n",
    "boundary_x1, boundary_x2 = np.meshgrid(np.arange(x1_min, x1_max, step), np.arange(x2_min, x2_max, step))\n",
    "grid = np.c_[boundary_x1.ravel(), boundary_x2.ravel()]\n",
    "e = np.ones((len(grid), 1))\n",
    "grid = np.c_[e, grid]\n",
    "z = grid.dot(w.reshape(-1,1))\n",
    "# 逻辑回归sigmoid并分类\n",
    "for i in range(len(z)):\n",
    "    z[i][0] = 1 / (1 + np.exp(-z[i][0]))\n",
    "    z[i][0] = 0 if z[i][0] < 0.5 else 1\n",
    "z = z.reshape(boundary_x1.shape)\n",
    "plt.contourf(boundary_x1, boundary_x2, z, alpha=0.7, cmap=plt.cm.Spectral, zorder=1)\n",
    "plt.xlabel('height')\n",
    "plt.ylabel('weight')\n",
    "plt.show()"
   ]
  },
  {
   "cell_type": "markdown",
   "id": "62249c0d",
   "metadata": {},
   "source": [
    "**<font color = blue size=4>第二部分:逻辑回归</font>**"
   ]
  },
  {
   "cell_type": "markdown",
   "id": "9989fe86",
   "metadata": {},
   "source": [
    "<span style=\"color:purple\">Iris数据集（鸢尾花卉数据集）是常用的分类实验数据集,是一类多重变量分析的数据集。我们实验选取数据集的部分内容，包含训练集80个数据样本和测试20个样本。每个数据有2个属性：花萼长度($x_1$)，花萼宽度($x_2$)。通过这2个属性预测鸢尾花卉属于（Setosa，Versicolour）二个种类中的哪一类。</span>"
   ]
  },
  {
   "cell_type": "markdown",
   "id": "b9c9a609",
   "metadata": {},
   "source": [
    "<span style=\"color:purple\">1) 导入数据集，进行数据预处理\n",
    "\n",
    "使用pandas库将训练数据集'flower_train.csv'与测试数据集'flower_test.csv'载入到Dataframe对象中。判断训练集中每列数据是否有缺失值或者不合理的数值，如果有，请进行数据预处理。测试集为完好的数据集，不需要进行预处理。由于花卉类型(type)为字符串类型，请将训练集和测试集中花卉类型转换为适合模型训练的类型</span>"
   ]
  },
  {
   "cell_type": "code",
   "execution_count": 11,
   "id": "3c879b2d",
   "metadata": {},
   "outputs": [
    {
     "name": "stdout",
     "output_type": "stream",
     "text": [
      " 判断是否有空值\n",
      "       x1     x2   type\n",
      "0    True  False  False\n",
      "1   False  False  False\n",
      "2   False  False  False\n",
      "3   False  False  False\n",
      "4   False  False  False\n",
      "..    ...    ...    ...\n",
      "75  False   True  False\n",
      "76  False  False  False\n",
      "77  False  False  False\n",
      "78  False   True  False\n",
      "79  False  False  False\n",
      "\n",
      "[80 rows x 3 columns]\n",
      "       x1     x2   type\n",
      "0   False  False  False\n",
      "1   False  False  False\n",
      "2   False  False  False\n",
      "3   False  False  False\n",
      "4   False  False  False\n",
      "5   False  False  False\n",
      "6   False  False  False\n",
      "7   False  False  False\n",
      "8   False  False  False\n",
      "9   False  False  False\n",
      "10  False  False  False\n",
      "11  False  False  False\n",
      "12  False  False  False\n",
      "13  False  False  False\n",
      "14  False  False  False\n",
      "15  False  False  False\n",
      "16  False  False  False\n",
      "17  False  False  False\n",
      "18  False  False  False\n",
      "19  False  False  False\n",
      "       x1     x2   type\n",
      "0   False  False  False\n",
      "1   False  False  False\n",
      "2   False  False  False\n",
      "3   False  False  False\n",
      "4   False  False  False\n",
      "..    ...    ...    ...\n",
      "75  False  False  False\n",
      "76  False  False  False\n",
      "77  False  False  False\n",
      "78  False  False  False\n",
      "79  False  False  False\n",
      "\n",
      "[80 rows x 3 columns]\n",
      "          x1        x2  type\n",
      "0   5.032432  3.500000     0\n",
      "1   4.900000  3.000000     0\n",
      "2   4.700000  3.200000     0\n",
      "3   4.600000  3.100000     0\n",
      "4   5.000000  3.600000     0\n",
      "..       ...       ...   ...\n",
      "75  5.700000  2.748649     1\n",
      "76  5.700000  2.900000     1\n",
      "77  6.200000  2.900000     1\n",
      "78  5.100000  2.748649     1\n",
      "79  5.700000  2.800000     1\n",
      "\n",
      "[80 rows x 3 columns]\n"
     ]
    }
   ],
   "source": [
    "#your code here------\n",
    "import numpy as np\n",
    "import pandas as pd\n",
    "import matplotlib.pyplot as plt\n",
    "import warnings\n",
    "warnings.filterwarnings('ignore')\n",
    "# Tips: 这一部分就是第一部分所介绍的数据预处理部分\n",
    "# 1.读取数据集，载入到Dataframe对象中\n",
    "train_frame=pd.read_csv('flower_train.csv')\n",
    "test_frame=pd.read_csv('flower_test.csv')\n",
    "# 2.判断数据中的缺失值和异常值，并进行处理\n",
    "print(\" 判断是否有空值\")\n",
    "print(train_frame.isnull())\n",
    "print(test_frame.isnull())\n",
    "#测试没有缺失值，不用进行替换\n",
    "\n",
    "train_frame[['x1','x2']]=train_frame[['x1','x2']].replace(0,np.nan)\n",
    "x1_group_by_type=train_frame.groupby('type')['x1']\n",
    "x2_group_by_type=train_frame.groupby('type')['x2']\n",
    "\n",
    "mean_x1_by_type=x1_group_by_type.transform('mean')\n",
    "mean_x2_by_type=x2_group_by_type.transform('mean')\n",
    "\n",
    "train_frame['x1'].fillna(mean_x1_by_type,inplace=True)\n",
    "train_frame['x2'].fillna(mean_x2_by_type,inplace=True)\n",
    "#检查是否替换成功\n",
    "print(train_frame.isnull())\n",
    "# 3.将花卉类型(type)由字符串类型转换为int类型\n",
    "# Iris-setosa为0，Iris-versicolor为1\n",
    "train_frame['type']=np.where(train_frame['type']==\"Iris-setosa\",0,1)\n",
    "test_frame['type']=np.where(test_frame['type']==\"Iris-setosa\",0,1) \n",
    "print(train_frame)\n",
    "#print(test_frame)\n",
    "\n",
    "# # 4.用np.array()将dataframe格式转换为numpy数组\n",
    "# class_1=train_frame[train_frame['type']==1]\n",
    "# class_0=train_frame[train_frame['type']==0]\n",
    "train=train_frame.to_numpy()\n",
    "test=train_frame.to_numpy()\n",
    "\n",
    "# 4.将训练集和测试集的特征和标签分别划分为特征数组和标签数组(可以使用数组切片操作，或自行实现)\n",
    "x_train=train[:,:-1]\n",
    "y_train=train[:,-1]\n",
    "x_test=test[:,:-1]\n",
    "y_test=test[:,-1]"
   ]
  },
  {
   "cell_type": "markdown",
   "id": "de7c6504",
   "metadata": {},
   "source": [
    "<span style=\"color:purple\"> 2) 在数据集中添加对应偏置项的特征为1的一列\n",
    "\n",
    "线性回归模型为$z=\\omega^T x=\\omega_0+\\omega_1x_1+\\omega_2x_2+...+\\omega_dx_d$。在这里，额外引入$x_0=1$这一特征。请相应地往测试集和训练集添加$x_0=1$这一特征。</span>"
   ]
  },
  {
   "cell_type": "code",
   "execution_count": 12,
   "id": "9f52ceef",
   "metadata": {},
   "outputs": [],
   "source": [
    "#your code here------\n",
    "# Tips: 在上一步划分好的训练集和测试集的特征数组中，分别添加一列全为1的特征\n",
    "# 1. 使用np.ones((len(train),1))添加生成形状为(len(train),1)，len(train)行，1列的全1数组\n",
    "ones_train=np.ones((len(x_train),1) )\n",
    "ones_test=np.ones((len(x_test),1))\n",
    "\n",
    "# 2. 使用np.concatenate(.,axis=1)或np.c_[]拼接数组\n",
    "#    np.c_[]：水平拼接两个一维数组\n",
    "#   例如：\n",
    "#       a = np.array([[1, 2], [3, 4]])  # 形状为 (2,2)\n",
    "#       b = np.array([[1], [1]])  # 形状为 (2,1)\n",
    "#       示例1：使用 np.concatenate 沿列方向拼接（axis=1）\n",
    "#           c1 = np.concatenate((a, b), axis=1)\n",
    "#           输出 [[1 2 1],[3 4 1]]\n",
    "#       示例2：使用 np.c_[] 水平拼接\n",
    "#           c2 = np.c_[a, b]\n",
    "#           输出 [[1 2 1],[3 4 1]]\n",
    "x_train=np.c_[ones_train,x_train]\n",
    "x_test=np.c_[ones_test,x_test];\n",
    "\n"
   ]
  },
  {
   "cell_type": "markdown",
   "id": "e751fe14",
   "metadata": {},
   "source": [
    "<span style=\"color:purple\">3) 使用梯度下降估计模型参数\n",
    "\n",
    "逻辑回归的原理是用逻辑函数$sigmoid(z)=\\frac{1}{1+e^{-z}}$把线性模型的输出映射到(0,1)区间，然后根据输出是否大于0.5进行二分类任务二分类问题。给定数据集$(\\boldsymbol{x}^{(1)},y^{(1)})$,$(\\boldsymbol{x}^{(2)},y^{(2)})$,...,$(\\boldsymbol{x}^{(m)},y^{(m)})$, 逻辑回归模型的损失函数为$$L(\\omega)=-\\frac{1}{m}\\sum^m_{i=1}y^{(i)}\\ln\\left(\\frac{1}{1+e^{-\\omega^T \\boldsymbol{x}^{(i)}}}\\right)+(1-y^{(i)})\\ln\\left(1-\\frac{1}{1+e^{-\\omega^T \\boldsymbol{x}^{(i)}}}\\right)$$  \n",
    "    使用梯度下降法来进行模型的训练。  </span>"
   ]
  },
  {
   "cell_type": "markdown",
   "id": "77edcce5",
   "metadata": {},
   "source": [
    "<span style=\"color:purple\">算法步骤如下：①初始化模型参数；②在负梯度的方向上更新参数，并不断迭代这一步骤。\n",
    "\n",
    "由于该实验涉及样本数量较小，建议使用批量梯度下降，使用整个训练集计算梯度。其中梯度的计算公式如下，\n",
    "    $$\\frac{\\partial L}{\\partial \\omega_j}=\\frac{1}{m}\\sum_{i=1}^m x^{(i)}_{j}(\\frac{1}{1+e^{-\\omega^T \\boldsymbol{x}^{(i)}}}-y^{(i)})=\\frac{1}{m}\\sum_{i=1}^m x^{(i)}_{j}(sigmoid(\\omega^T \\boldsymbol{x}^{(i)})-y^{(i)})$$  \n",
    "    参数更新的公式为$$\\omega_j =\\omega_j-\\eta\\frac{\\partial L}{\\partial w_j}$$其中$\\eta$表示学习率，$m$则表示批量中的样本数量（即整个训练集的样本数），$x^{(i)}_{j}$代表着第i个样本的第j个特征值, $y^{(i)}$代表着第i个样本的真实值\n",
    "</span>"
   ]
  },
  {
   "cell_type": "code",
   "execution_count": 13,
   "id": "86498e7e",
   "metadata": {},
   "outputs": [
    {
     "name": "stdout",
     "output_type": "stream",
     "text": [
      "最终的参数w: [[-0.12483229]\n",
      " [ 0.91781741]\n",
      " [-1.56339469]]\n",
      "loss_history: 0.34849499736168965\n"
     ]
    }
   ],
   "source": [
    "#your code here------\n",
    "\n",
    "# 下面给出伪代码提示：\n",
    "# 输入: 训练数据 (X, y), 学习率 η, 最大迭代次数 epochs, 允许误差 tolerance\n",
    "def sigmoid(z):\n",
    "    return 1/(1+np.exp(-z))\n",
    "eta=0.01\n",
    "epochs=1000\n",
    "tolerance=1e-5\n",
    "# 1. 初始化参数:\n",
    "#    - w (n 维向量) 初始化为零或小的随机值\n",
    "#    - 记录损失值 loss_history = []\n",
    "n_features=x_train.shape[1]\n",
    "w=np.zeros((n_features,1))\n",
    "loss_history=[]\n",
    "\n",
    "y_train=y_train.reshape(-1,1)\n",
    "m=len(y_train)\n",
    "# 2. 进行循环更新参数 (最多 epochs 轮):\n",
    "for epoch in range (epochs):\n",
    "#    a. 计算预测值:\n",
    "#       - 𝑧 = X ⋅ w (此处为点乘)\n",
    "#       - 𝑦̂ = sigmoid(𝑧)  # 逻辑回归中的概率预测\n",
    "    z=np.dot(x_train,w)\n",
    "    y_hat=sigmoid(z)\n",
    "#    b. 计算梯度:\n",
    "#       - gradient = (1/m) * X^T ⋅ (𝑦̂ - y)  # 使用矩阵形式计算或许会方便一些\n",
    "    gradient=(1/m)*np.dot(x_train.T,(y_hat-y_train))\n",
    "#    c. 更新参数:\n",
    "#       - w = w - η * gradient  # 梯度下降更新\n",
    "    w-=eta*gradient\n",
    "#    d. 计算损失:\n",
    "#       - loss = -平均值(y * log(𝑦̂) + (1 - y) * log(1 - 𝑦̂)) #交叉熵损失函数，也即负的平均对数似然函数\n",
    "#       - 记录 loss_history.append(loss)\n",
    "    loss=-np.mean(y_train*np.log(y_hat+1e-10)+(1-y_train)*np.log(1-y_hat + 1e-10))\n",
    "    loss_history.append(loss)\n",
    "#    e. 判断是否收敛:\n",
    "#       - 如果 ‖gradient‖ < tolerance, 停止迭代\n",
    "    if np.linalg.norm(gradient)<tolerance:\n",
    "        break\n",
    "# 3. 返回最终的参数 w 和 loss_history (损失值下降趋势)\n",
    "print(\"最终的参数w:\",w)\n",
    "print(\"loss_history:\",loss_history[-1])\n",
    "\n",
    "# Tips: 可能用到的函数\n",
    "# np.dot() - 计算两个数组的点积（内积）\n",
    "# 1. 如果是 1D 数组，np.dot(a, b) 计算向量点积（内积）\n",
    "#    例如： np.dot([1, 2, 3], [4, 5, 6])  ->  1*4 + 2*5 + 3*6 = 32\n",
    "# 2. 如果是 2D 矩阵，np.dot(A, B) 计算矩阵乘法\n",
    "#    例如：\n",
    "#        A = [[1, 2],     B = [[5, 6],    np.dot(A, B) =\n",
    "#             [3, 4]]          [7, 8]]       [[1*5 + 2*7, 1*6 + 2*8],\n",
    "#                                             [3*5 + 4*7, 3*6 + 4*8]]\n",
    "#                                          = [[19, 22],\n",
    "#                                             [43, 50]]\n",
    "# 3. 若 A 是 (m, n) 矩阵，B 是 (n, p) 矩阵，则 np.dot(A, B) 生成 (m, p) 矩阵\n",
    "# 4. 可以用 np.matmul(A, B) 或 A @ B 代替 np.dot(A, B)\n",
    "\n",
    "# np.exp() - 计算 e^x（指数函数）\n",
    "# 1. 计算单个数的指数：\n",
    "#    np.exp(1)  -> e^1 ≈ 2.718\n",
    "# 2. 计算数组中每个元素的指数：\n",
    "#    np.exp([0, 1, 2])  ->  [e^0, e^1, e^2] ≈ [1, 2.718, 7.389]\n",
    "\n",
    "# np.log() - 计算自然对数（以 e 为底）\n",
    "# 1. 计算单个数的对数：\n",
    "#    np.log(e)  -> 1  （因为 ln(e) = 1）\n",
    "# 2. 计算数组中每个元素的对数：\n",
    "#    np.log([1, e, e^2])  -> [0, 1, 2]\n",
    "# 3. np.log() 只适用于正数，若输入负数会报错：\n",
    "#    np.log(-1)  -> 报错（math domain error）\n"
   ]
  },
  {
   "cell_type": "code",
   "execution_count": 14,
   "id": "065b435f",
   "metadata": {},
   "outputs": [
    {
     "name": "stdout",
     "output_type": "stream",
     "text": [
      "0.34849499736168965\n"
     ]
    },
    {
     "data": {
      "image/png": "[encoded data removed]",
      "text/plain": [
       "<Figure size 640x480 with 1 Axes>"
      ]
     },
     "metadata": {},
     "output_type": "display_data"
    }
   ],
   "source": [
    "# 绘制loss曲线，观察是否收敛\n",
    "print(loss_history[-1])\n",
    "plt.plot(np.arange(len(loss_history)), loss_history)\n",
    "plt.show()"
   ]
  },
  {
   "cell_type": "markdown",
   "id": "28b312ee",
   "metadata": {},
   "source": [
    "<span style=\"color:purple\">4)在模型训练完成后得到所训练的模型参数$\\omega$，使用训练后的逻辑回归模型对测试数据集'flower_test.csv'进行预测，并使用上文的损失函数计算loss值</span>"
   ]
  },
  {
   "cell_type": "code",
   "execution_count": 15,
   "id": "9c9196ba",
   "metadata": {},
   "outputs": [
    {
     "name": "stdout",
     "output_type": "stream",
     "text": [
      "测试机损失 0.3483304627102862\n"
     ]
    }
   ],
   "source": [
    "#your code here------\n",
    "\n",
    "# Tips：\n",
    "y_test=y_test.reshape(-1,1)\n",
    "# 1. 使用训练好的参数 w，对测试集特征进行线性变换，得到 z = X_test.dot(w)\n",
    "z_test=np.dot(x_test,w)\n",
    "# 2. 对 z 应用 sigmoid 函数，得到预测概率 y_pred = 1/(1+np.exp(-z\n",
    "y_pred=sigmoid(z_test)\n",
    "# 3. 用预测概率和真实标签，按损失函数公式计算 loss\n",
    "loss_test=-np.mean(y_test*np.log(y_pred+1e-10)+(1-y_test)*np.log(1-y_pred+1e-10))\n",
    "#    loss = -平均值(y * log(y_pred) + (1-y) * log(1-y_pred))\n",
    "# 4. 打印 loss 值，观察模型在测试集上的表现\n",
    "print(\"测试机损失\",loss_test)\n"
   ]
  },
  {
   "cell_type": "markdown",
   "id": "2de672a3",
   "metadata": {},
   "source": [
    "<span style=\"color:purple\">5)输出可视化结果（比如用seaborn或者matplotlib等可视化库来画出测试数据的散点图以及训练好的模型函数图像)，要求如下:  \n",
    "    1.将所得到的逻辑回归模型所得到的决策边界绘制出来  \n",
    "  2.测试集的所有点在同一幅图中进行绘制  \n",
    "  3.需要给不同类别的测试点不同颜色，方便通过颜色的区别直观看到预测正确和错误的样本</span>"
   ]
  },
  {
   "cell_type": "code",
   "execution_count": 16,
   "id": "bfa02894",
   "metadata": {},
   "outputs": [
    {
     "data": {
      "image/png": "[encoded data removed]",
      "text/plain": [
       "<Figure size 1000x500 with 1 Axes>"
      ]
     },
     "metadata": {},
     "output_type": "display_data"
    }
   ],
   "source": [
    "#your code here------\n",
    "\n",
    "# Tips: 可以使用前面的绘制决策边界的代码\n",
    "# 1. 定义权重参数 w 和 x1、x2 的范围\n",
    "# 2. 复制粘贴前面的绘制决策边界的代码\n",
    "# 3. 将散点图的横纵坐标标签改为数据集的特征名称，例如 'height' 和 'weight'\n",
    "# 4. 运行代码，观察决策边界和分类区域\n",
    "# 或者你也可以自行实现绘制决策边界的代码\n",
    "\n",
    "#your code here------\n",
    "\n",
    "import matplotlib.pyplot as plt\n",
    "class_0 = test_frame[test_frame['type'] == 0]  \n",
    "class_1 = test_frame[test_frame['type'] == 1]\n",
    " \n",
    "x1_min, x1_max = test_frame['x1'].min() - 1, test_frame['x1'].max() + 1\n",
    "x2_min, x2_max = test_frame['x2'].min() - 1, test_frame['x2'].max() + 1\n",
    " \n",
    "plt.figure(figsize=(10,5))\n",
    "plt.scatter(class_1['x1'], class_1['x2'], c='blue', label='Iris-versicolor')\n",
    "plt.scatter(class_0['x1'], class_0['x2'], c='red', label='Iris-setosa')\n",
    " \n",
    "step=0.1\n",
    "boundary_x1, boundary_x2 = np.meshgrid(np.arange(x1_min, x1_max, step), np.arange(x2_min, x2_max, step))\n",
    "grid = np.c_[boundary_x1.ravel(), boundary_x2.ravel()]\n",
    "e = np.ones((len(grid), 1))\n",
    "grid = np.c_[e, grid]\n",
    "z = grid.dot(w.reshape(-1,1)) \n",
    "for i in range(len(z)):\n",
    "    z[i][0] = 1 / (1 + np.exp(-z[i][0]))\n",
    "    z[i][0] = 0 if z[i][0] < 0.5 else 1\n",
    "z = z.reshape(boundary_x1.shape)\n",
    "plt.contourf(boundary_x1, boundary_x2, z, alpha=0.7, cmap=plt.cm.Spectral, zorder=1)\n",
    "plt.xlabel('x1')\n",
    "plt.ylabel('x2')\n",
    "plt.legend()\n",
    "plt.show()\n",
    " "
   ]
  },
  {
   "cell_type": "markdown",
   "id": "c320df44",
   "metadata": {},
   "source": [
    "**<font color = blue size=4>第三部分:作业提交链接</font>**"
   ]
  },
  {
   "cell_type": "markdown",
   "id": "b64bc35d",
   "metadata": {},
   "source": [
    "一、实验课下课前提交完成代码，如果下课前未完成，请将已经完成的部分进行提交，未完成的部分于之后的实验报告中进行补充  \n",
    "要求:  \n",
    "1)文件格式为：学号-姓名.ipynb  \n",
    "2)【不要】提交文件夹、压缩包、数据集等无关文件，只需提交单个ipynb文件即可，如果交错请到讲台前联系助教，删掉之前的错误版本后再进行提交"
   ]
  },
  {
   "cell_type": "markdown",
   "id": "04c1e560",
   "metadata": {},
   "source": [
    "二、本次实验要求撰写实验报告，实验报告包含实验内容、关键代码解释和总结  \n",
    "实验报告提交截止时间：三周后的实验课(10月17号 16:30)上课前提交报告  \n",
    "要求：  \n",
    "1)文件格式为：学号-姓名.pdf  \n",
    "2)【不要】提交文件夹、压缩包、代码文件、数据集等任何与实验报告无关的文件，只需要提交单个pdf文件即可  \n",
    "3)文件命名时不需要额外添加“实验几”等额外信息，按照格式提交  \n",
    "4)每周的实验报告提交地址会变化，且有时间限制，请注意及时提交"
   ]
  },
  {
   "cell_type": "markdown",
   "id": "b6e41459",
   "metadata": {},
   "source": [
    "实验三(逻辑回归)的实验报告上交地址:https://send2me.cn/q9RWY6ic/RXGXC8P_9vQXKg"
   ]
  },
  {
   "cell_type": "markdown",
   "id": "908ca3c5",
   "metadata": {},
   "source": [
    "三、课堂课件获取地址：https://www.jianguoyun.com/p/Ddk4kPQQp5WhChiXwYcGIAA\n",
    "\n",
    "实验内容获取地址：https://www.jianguoyun.com/p/DY2DV1AQp5WhChiApYkGIAA"
   ]
  }
 ],
 "metadata": {
  "kernelspec": {
   "display_name": "Python [conda env:base] *",
   "language": "python",
   "name": "conda-base-py"
  },
  "language_info": {
   "codemirror_mode": {
    "name": "ipython",
    "version": 3
   },
   "file_extension": ".py",
   "mimetype": "text/x-python",
   "name": "python",
   "nbconvert_exporter": "python",
   "pygments_lexer": "ipython3",
   "version": "3.13.5"
  }
 },
 "nbformat": 4,
 "nbformat_minor": 5
}
